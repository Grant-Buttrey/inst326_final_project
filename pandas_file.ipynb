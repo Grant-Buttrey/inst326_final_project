{
 "metadata": {
  "language_info": {
   "codemirror_mode": {
    "name": "ipython",
    "version": 3
   },
   "file_extension": ".py",
   "mimetype": "text/x-python",
   "name": "python",
   "nbconvert_exporter": "python",
   "pygments_lexer": "ipython3",
   "version": "3.7.4-final"
  },
  "orig_nbformat": 2,
  "kernelspec": {
   "name": "python3",
   "display_name": "Python 3",
   "language": "python"
  }
 },
 "nbformat": 4,
 "nbformat_minor": 2,
 "cells": [
  {
   "cell_type": "code",
   "execution_count": 5,
   "metadata": {},
   "outputs": [],
   "source": [
    "import pandas as pd\n",
    "import requests"
   ]
  },
  {
   "cell_type": "code",
   "execution_count": 6,
   "metadata": {},
   "outputs": [],
   "source": [
    "data = pd.read_json(\"https://www.fantasyfootballdatapros.com/api/players/2019/all\")\n"
   ]
  },
  {
   "cell_type": "code",
   "execution_count": 7,
   "metadata": {},
   "outputs": [
    {
     "output_type": "execute_result",
     "data": {
      "text/plain": [
       "     fumbles_lost  games_played          player_name position  \\\n",
       "0               0            16  Christian McCaffrey       RB   \n",
       "1               2            15        Lamar Jackson       QB   \n",
       "2               3            15        Derrick Henry       RB   \n",
       "3               2            16          Aaron Jones       RB   \n",
       "4               2            16      Ezekiel Elliott       RB   \n",
       "..            ...           ...                  ...      ...   \n",
       "615             1             6      Ray-Ray McCloud        0   \n",
       "616             1             6     Darrius Shepherd       WR   \n",
       "617             0             3      Jarrett Stidham       QB   \n",
       "618             2             7       Michael Walker       WR   \n",
       "619             2             4        Corey Clement        0   \n",
       "\n",
       "                                                 stats team  \n",
       "0    {'passing': {'int': 0.0, 'passing_att': 2.0, '...  CAR  \n",
       "1    {'passing': {'int': 6.0, 'passing_att': 401.0,...  BAL  \n",
       "2    {'passing': {'int': 0.0, 'passing_att': 0.0, '...  TEN  \n",
       "3    {'passing': {'int': 0.0, 'passing_att': 0.0, '...  GNB  \n",
       "4    {'passing': {'int': 0.0, 'passing_att': 0.0, '...  DAL  \n",
       "..                                                 ...  ...  \n",
       "615  {'passing': {'int': 0.0, 'passing_att': 0.0, '...  CAR  \n",
       "616  {'passing': {'int': 0.0, 'passing_att': 0.0, '...  GNB  \n",
       "617  {'passing': {'int': 1.0, 'passing_att': 4.0, '...  NWE  \n",
       "618  {'passing': {'int': 0.0, 'passing_att': 0.0, '...  JAX  \n",
       "619  {'passing': {'int': 0.0, 'passing_att': 0.0, '...  PHI  \n",
       "\n",
       "[620 rows x 6 columns]"
      ],
      "text/html": "<div>\n<style scoped>\n    .dataframe tbody tr th:only-of-type {\n        vertical-align: middle;\n    }\n\n    .dataframe tbody tr th {\n        vertical-align: top;\n    }\n\n    .dataframe thead th {\n        text-align: right;\n    }\n</style>\n<table border=\"1\" class=\"dataframe\">\n  <thead>\n    <tr style=\"text-align: right;\">\n      <th></th>\n      <th>fumbles_lost</th>\n      <th>games_played</th>\n      <th>player_name</th>\n      <th>position</th>\n      <th>stats</th>\n      <th>team</th>\n    </tr>\n  </thead>\n  <tbody>\n    <tr>\n      <td>0</td>\n      <td>0</td>\n      <td>16</td>\n      <td>Christian McCaffrey</td>\n      <td>RB</td>\n      <td>{'passing': {'int': 0.0, 'passing_att': 2.0, '...</td>\n      <td>CAR</td>\n    </tr>\n    <tr>\n      <td>1</td>\n      <td>2</td>\n      <td>15</td>\n      <td>Lamar Jackson</td>\n      <td>QB</td>\n      <td>{'passing': {'int': 6.0, 'passing_att': 401.0,...</td>\n      <td>BAL</td>\n    </tr>\n    <tr>\n      <td>2</td>\n      <td>3</td>\n      <td>15</td>\n      <td>Derrick Henry</td>\n      <td>RB</td>\n      <td>{'passing': {'int': 0.0, 'passing_att': 0.0, '...</td>\n      <td>TEN</td>\n    </tr>\n    <tr>\n      <td>3</td>\n      <td>2</td>\n      <td>16</td>\n      <td>Aaron Jones</td>\n      <td>RB</td>\n      <td>{'passing': {'int': 0.0, 'passing_att': 0.0, '...</td>\n      <td>GNB</td>\n    </tr>\n    <tr>\n      <td>4</td>\n      <td>2</td>\n      <td>16</td>\n      <td>Ezekiel Elliott</td>\n      <td>RB</td>\n      <td>{'passing': {'int': 0.0, 'passing_att': 0.0, '...</td>\n      <td>DAL</td>\n    </tr>\n    <tr>\n      <td>...</td>\n      <td>...</td>\n      <td>...</td>\n      <td>...</td>\n      <td>...</td>\n      <td>...</td>\n      <td>...</td>\n    </tr>\n    <tr>\n      <td>615</td>\n      <td>1</td>\n      <td>6</td>\n      <td>Ray-Ray McCloud</td>\n      <td>0</td>\n      <td>{'passing': {'int': 0.0, 'passing_att': 0.0, '...</td>\n      <td>CAR</td>\n    </tr>\n    <tr>\n      <td>616</td>\n      <td>1</td>\n      <td>6</td>\n      <td>Darrius Shepherd</td>\n      <td>WR</td>\n      <td>{'passing': {'int': 0.0, 'passing_att': 0.0, '...</td>\n      <td>GNB</td>\n    </tr>\n    <tr>\n      <td>617</td>\n      <td>0</td>\n      <td>3</td>\n      <td>Jarrett Stidham</td>\n      <td>QB</td>\n      <td>{'passing': {'int': 1.0, 'passing_att': 4.0, '...</td>\n      <td>NWE</td>\n    </tr>\n    <tr>\n      <td>618</td>\n      <td>2</td>\n      <td>7</td>\n      <td>Michael Walker</td>\n      <td>WR</td>\n      <td>{'passing': {'int': 0.0, 'passing_att': 0.0, '...</td>\n      <td>JAX</td>\n    </tr>\n    <tr>\n      <td>619</td>\n      <td>2</td>\n      <td>4</td>\n      <td>Corey Clement</td>\n      <td>0</td>\n      <td>{'passing': {'int': 0.0, 'passing_att': 0.0, '...</td>\n      <td>PHI</td>\n    </tr>\n  </tbody>\n</table>\n<p>620 rows × 6 columns</p>\n</div>"
     },
     "metadata": {},
     "execution_count": 7
    }
   ],
   "source": [
    "data = pd.DataFrame(data)\n",
    "data"
   ]
  },
  {
   "cell_type": "code",
   "execution_count": 8,
   "metadata": {
    "tags": []
   },
   "outputs": [
    {
     "output_type": "stream",
     "name": "stdout",
     "text": [
      "Christian McCaffrey\nLamar Jackson\nDerrick Henry\nAaron Jones\nEzekiel Elliott\nDalvin Cook\nMichael Thomas\nTravis Kelce\nNick Chubb\nAustin Ekeler\nMark Ingram\nDak Prescott\nMark Andrews\nRussell Wilson\nChris Godwin\nGeorge Kittle\nDeshaun Watson\nChris Carson\nDarren Waller\nKenny Golladay\nSaquon Barkley\nZach Ertz\nJoe Mixon\nTodd Gurley\nJared Cook\nCooper Kupp\nJulio Jones\nDeVante Parker\nLeonard Fournette\nJameis Winston\nAustin Hooper\nAmari Cooper\nMike Evans\nA.J. Brown\nDeAndre Hopkins\nJosh Jacobs\nKeenan Allen\nMiles Sanders\nAllen Robinson\nJulian Edelman\nAlvin Kamara\nMarlon Mack\nJarvis Landry\nJosh Allen\nTyler Lockett\nDJ Chark\nKenyan Drake\nPatrick Mahomes\nPhillip Lindsay\nKyler Murray\nCourtland Sutton\nStefon Diggs\nJohn Brown\nHunter Henry\nMichael Gallup\nAaron Rodgers\nTyler Higbee\nD.J. Moore\nRobert Woods\nCarson Wentz\nRaheem Mostert\nDallas Goedert\nLe'Veon Bell\nMike Gesicki\nCalvin Ridley\nDavid Montgomery\nTerry McLaurin\nTyler Boyd\nMatt Ryan\nDeebo Samuel\nMarvin Jones\nCarlos Hyde\nTyreek Hill\nDavante Adams\nSony Michel\nTom Brady\nJason Witten\nMichael Burton\nJared Goff\nJimmy Garoppolo\nDerek Carr\nKirk Cousins\nRyan Fitzpatrick\nPhilip Rivers\nBaker Mayfield\nGardner Minshew\nDrew Brees\nRyan Tannehill\nJacoby Brissett\nDaniel Jones\nAndy Dalton\nMitchell Trubisky\nSam Darnold\nKyle Allen\nMatthew Stafford\nDevonta Freeman\nMelvin Gordon\nRonald Jones\nAdrian Peterson\nD.K. Metcalf\nJames White\nOdell Beckham\nEmmanuel Sanders\nLatavius Murray\nDarius Slayton\nJamison Crowder\nDevin Singletary\nCole Beasley\nCurtis Samuel\nTevin Coleman\nJames Conner\nMike Williams\nDamien Williams\nRobby Anderson\nChris Conley\nDuke Johnson\nMason Rudolph\nJamaal Williams\nDavid Johnson\nDiontae Johnson\nCase Keenum\nGolden Tate\nLarry Fitzgerald\nBreshad Perriman\nPeyton Barber\nJordan Howard\nTyrell Williams\nMarquise Brown\nRandall Cobb\nChristian Kirk\nRoyce Freeman\nMecole Hardman\nZach Pascal\nLeSean McCoy\nDede Westbrook\nTeddy Bridgewater\nJames Washington\nSammy Watkins\nGus Edwards\nDeAndre Washington\nTarik Cohen\nJoe Flacco\nWill Fuller\nMarcus Mariota\nHunter Renfrow\nSterling Shepard\nMatt Breida\nAdam Thielen\nTaysom Hill\nFrank Gore\nT.Y. Hilton\nKenny Stills\nDanny Amendola\nAlshon Jeffery\nDwayne Haskins\nBrandin Cooks\nDarren Fells\nAnthony Miller\nSteven Sims\nKerryon Johnson\nKyle Rudolph\nRex Burkhead\nNyheim Hines\nTony Pollard\nBoston Scott\nCorey Davis\nPhillip Dorsett\nGreg Olsen\nChase Edmonds\nNoah Fant\nJuJu Smith-Schuster\nJonnu Smith\nJack Doyle\nDemarcus Robinson\nKendrick Bourne\nAllen Lazard\nDrew Lock\nRashaad Penny\nJohn Ross\nEvan Engram\nMohamed Sanu\nTyler Eifert\nRyan Griffin\nKareem Hunt\nWillie Snead\nJimmy Graham\nAuden Tate\nTaylor Gabriel\nPreston Williams\nAlexander Mattison\nMarquez Valdes-Scantling\nMalcolm Brown\nJeff Driskel\nBrian Hill\nJaylen Samuels\nTajae Sharpe\nEric Ebron\nTed Ginn\nNelson Agholor\nCameron Brate\nKeelan Cole\nBlake Jarwin\nBenny Snell\nJordan Akins\nDavid Blough\nEli Manning\nAlex Erickson\nGerald Everett\nJacob Hollister\nTre'Quan Smith\nDarrel Williams\nAllen Hurns\nDawson Knox\nChris Thompson\nWill Dissly\nDevlin Hodges\nRussell Gage\nDerrius Guice\nO.J. Howard\nAdam Humphries\nJ.D. McKissic\nT.J. Hockenson\nDemaryius Thomas\nOlabisi Johnson\nMike Boone\nJosh Gordon\nHayden Hurst\nFoster Moreau\nJalen Richard\nJordan Wilkins\nVance McDonald\nAlbert Wilson\nPatrick Laird\nRicky Seals-Jones\nKaden Smith\nNick Boyle\nJeff Wilson\nDavid Moore\nIrv Smith Jr.\nBrandon Bolden\nJustice Hill\nCody Latimer\nMatt Moore\nBo Scarbrough\nGeronimo Allison\nJosh Hill\nDion Lewis\nJosh Reynolds\nDamiere Byrd\nMarcus Johnson\nDare Ogunbowale\nSeth Roberts\nKalen Ballage\nGiovani Bernard\nMiles Boykin\nNick Foles\nRyquell Armstead\nWayne Gallman\nKelvin Harmon\nPaul Richardson\nDaeSean Hamilton\nTy Johnson\nIsaiah McKenzie\nJakobi Meyers\nC.J. Uzomah\nDemetrius Harris\nJonathan Williams\nTavon Austin\nDelanie Walker\nBrandon Allen\nMarvin Hall\nMatt Schaub\nJaron Brown\nVyncint Smith\nGreg Ward\nPharoh Cooper\nKeke Coutee\nKyle Juszczyk\nMalik Turner\nCharles Clay\nQadree Ollison\nChester Rogers\nJeremy Sprinkle\nJarius Wright\nDeSean Jackson\nJake Kumerow\nScott Miller\nJustin Watson\nJakeem Grant\nN'Keal Harry\nJames O'Shaughnessy\nMark Walton\nChase Daniel\nAnthony Firkser\nIsaiah Ford\nMarquise Goodwin\nDontrell Hilliard\nAndy Isabella\nBilal Powell\nTrey Quinn\nDamion Ratley\nMaxx Williams\nDan Arnold\nRyan Finley\nKeeSean Johnson\nCordarrelle Patterson\nIto Smith\nJavon Wims\nAmeer Abdullah\nMyles Gaskin\nDante Pettis\nLaquon Treadwell\nOlamide Zaccheaus\nJJ Arcega-Whiteside\nReggie Bonnafon\nRhett Ellison\nBennie Fowler\nByron Pringle\nDarwin Thompson\nLogan Thomas\nDuke Williams\nJustin Jackson\nZay Jones\nMarcedes Lewis\nTim Patrick\nRoss Dwelley\nJaeden Graham\nC.J. Ham\nBrian Hoyer\nKalif Raymond\nParris Campbell\nDerek Carrier\nTrevor Davis\nJustin Hardy\nRichie James\nIan Thomas\nMatt LaCosse\nTy Montgomery\nC.J. Prosise\nVernon Davis\nDarrell Henderson\nDontrelle Inman\nJosh Rosen\nJeff Heuerman\nTravis Homer\nRyan Izzo\nA.J. McCarron\nCam Newton\nNick O'Leary\nDevin Smith\nNick Vannett\nBen Watson\nT.J. Yeldon\nAndrew Beck\nRobert Griffin\nHale Hentges\nRobert Tonyan\nJoshua Perkins\nMyCole Pruitt\nWendell Smallwood\nDeAndre Carter\nSeth Devalve\nTrey Edmunds\nVirgil Green\nWes Hills\nJesse James\nDaniel Brown\nKeelan Doss\nRico Gafford\nMack Hollins\nJesper Horsted\nTyler Kroft\nBen Roethlisberger\nKerrith Whyte\nBen Braunecker\nAntonio Brown\nDeon Cain\nRashard Higgins\nAlec Ingold\nJavorius Allen\nStephen Carlson\nDarren Sproles\nTommy Sweeney\nBrandon Zylstra\nMarcell Ateman\nBraxton Berrios\nTroy Fumagalli\nDeonte Harris\nAndy Janovich\nT.J. Jones\nJJ Nelson\nDavid Njoku\nDanny Vitale\nDerek Watt\nMo Alie-Cox\nKenjon Barner\nChristian Blake\nAntonio Callaway\nLuke Falk\nRobert Foster\nJ.P. Holtz\nD'Ernest Johnson\nMarshawn Lynch\nLee Smith\nAlex Armah\nNick Bellore\nVentell Bryant\nTrey Burton\nKhaDarel Hodge\nTrent Sherfield\nDamion Willis\nLuke Willson\nChad Beebe\nBlake Bell\nDevontae Booker\nTra Carson\nCethan Carter\nChris Hogan\nTroymaine Pope\nRiley Ridley\nAdam Shaheen\nDurham Smythe\nGeoff Swaim\nSpencer Ware\nDwayne Washington\nMatt Barkley\nTyler Conklin\nBrett Hundley\nTevin Jones\nChris Lacy\nZach Line\nAndre Patton\nTyrod Taylor\nClive Walford\nKhari Blasingame\nDeontay Burnett\nMike Davis\nPatrick DiMarco\nJon Hilliman\nAlexander Hollins\nTaiwan Jones\nLance Kendricks\nDevine Ozigbo\nElijhaa Penny\nLuke Stocker\nTrevon Wesco\nDeAndrew White\nCedrick Wilson\nDeon Yelder\nC.J. Anderson\nGeremy Davis\nMike Glennon\nColt McCoy\nSteven Mitchell\nJason Moore\nPaul Perkins\nJay Ajayi\nTravis Benjamin\nC.J. Board\nPharaoh Brown\nCody Core\nDalyn Dawkins\nDevin Funchess\nJohnny Holton\nTanner Hudson\nIshmael Hyman\nJordan Matthews\nCodey McElroy\nJohnny Mundt\nAndre Roberts\nDrew Sample\nDa'Mari Scott\nRussell Shepard\nAnthony Sherman\nCam Sims\nRyan Switzer\nRoss Travis\nNick Bawden\nJosh Bellamy\nFred Brown\nMichael Crabtree\nRashard Davis\nRobert Davis\nAshton Dulin\nTyler Ervin\nDarius Jennings\nMarqise Lee\nT.J. Logan\nDonte Moncrief\nChris Moore\nStanley Morgan\nJosh Oliver\nSamaje Perine\nEric Saubert\nKeith Smith\nDiontae Spencer\nBobo Wilson\nZach Zenner\nJosh Adams\nAntony Auclair\nTony Brooks-James\nAustin Carr\nSean Culkin\nJosh Ferguson\nJohn Franklin\nRyan Grant\nWill Grier\nRyan Griffin\nDamien Harris\nDwayne Harris\nChris Herndon\nCody Hollister\nBuddy Howell\nJakob Johnson\nCharles Jones\nJohn Kelly\nBen Koyack\nChris Manhertz\nJosh McCown\nRyan Nall\nIsaac Nauta\nGunner Olszewski\nRicky Ortiz\nJordan Scarlett\nDalton Schultz\nJaleel Scott\nScott Simonson\nJeff Smith\nTyrone Swoopes\nDe'Anthony Thomas\nJordan Thomas\nMike Thomas\nLevine Toilolo\nDe'Lance Turner\nJohn Ursua\nDexter Williams\nJerell Adams\nStephen Anderson\nEvan Baylis\nKendall Blanton\nTim Boyle\nDeante Burton\nTrenton Cannon\nGarrett Celek\nJordan Chunn\nChandler Cox\nRiver Cracraft\nJerome Cunningham\nDarrell Daniels\nDavion Davis\nJames Develin\nGarrett Dickerson\nGehrig Dieter\nBrandon Dillon\nJosh Doctson\nQuinton Dunbar\nAlex Ellis\nDavid Fales\nDavid Fluellen\nD.J. Foster\nTravis Fulgham\nZach Gentry\nGarrett Gilbert\nCullen Gillaspia\nC.J. Goodwin\nCyril Grayson\nXavier Grimble\nJalen Guyton\nJustin Hardee\nClark Harris\nKrishawn Hogan\nLil'Jordan Humphrey\nTrenton Irwin\nGary Jennings\nTom Kennedy\nDarvin Kidsy\nKeith Kirkwood\nMatt Lengel\nJosh Malone\nJeremy McNichols\nTrace McSorley\nCarson Meier\nJaydon Mickens\nAlfred Morris\nNick Mullens\nJojo Natson\nRoosevelt Nix\nJamize Olawale\nMatthew Orzech\nSenorise Perry\nCraig Reynolds\nRichard Rodgers\nCooper Rush\nSpencer Schnell\nMason Schreck\nTrevor Siemian\nMatthew Slater\nRod Smith\nNate Solder\nJace Sternberger\nAlex Tanney\nTaywan Taylor\nEric Tomlinson\nRobert Turbin\nJason Vander Laan\nAustin Walter\nJester Weah\nNsimba Webster\nChad Williams\nTrayveon Williams\nJuwann Winfree\nBlake Bortles\nSean Mannion\nGreg Dortch\nQuincy Enunwa\nRay-Ray McCloud\nDarrius Shepherd\nJarrett Stidham\nMichael Walker\nCorey Clement\n"
     ]
    }
   ],
   "source": [
    "for i in data[\"player_name\"]:\n",
    "    print(i)\n"
   ]
  },
  {
   "cell_type": "code",
   "execution_count": 1,
   "metadata": {},
   "outputs": [
    {
     "output_type": "error",
     "ename": "TypeError",
     "evalue": "append() takes exactly one argument (0 given)",
     "traceback": [
      "\u001b[0;31m---------------------------------------------------------------------------\u001b[0m",
      "\u001b[0;31mTypeError\u001b[0m                                 Traceback (most recent call last)",
      "\u001b[0;32m<ipython-input-1-63cdbdc8d320>\u001b[0m in \u001b[0;36m<module>\u001b[0;34m\u001b[0m\n\u001b[1;32m      1\u001b[0m \u001b[0mleague_players\u001b[0m \u001b[0;34m=\u001b[0m \u001b[0;34m[\u001b[0m\u001b[0;34m]\u001b[0m\u001b[0;34m\u001b[0m\u001b[0;34m\u001b[0m\u001b[0m\n\u001b[1;32m      2\u001b[0m \u001b[0;34m\u001b[0m\u001b[0m\n\u001b[0;32m----> 3\u001b[0;31m \u001b[0mleague_players\u001b[0m\u001b[0;34m.\u001b[0m\u001b[0mappend\u001b[0m\u001b[0;34m(\u001b[0m\u001b[0;34m)\u001b[0m\u001b[0;34m\u001b[0m\u001b[0;34m\u001b[0m\u001b[0m\n\u001b[0m",
      "\u001b[0;31mTypeError\u001b[0m: append() takes exactly one argument (0 given)"
     ]
    }
   ],
   "source": [
    "league_players = []\n",
    "\n",
    "league_players.append()"
   ]
  },
  {
   "cell_type": "code",
   "execution_count": 21,
   "metadata": {},
   "outputs": [
    {
     "output_type": "stream",
     "name": "stdout",
     "text": [
      "not a qb\nnot a qb\nnot a qb\nnot a qb\nnot a qb\nnot a qb\nnot a qb\nnot a qb\nnot a qb\nnot a qb\nnot a qb\nnot a qb\nnot a qb\nnot a qb\nnot a qb\nnot a qb\nnot a qb\nnot a qb\nnot a qb\nnot a qb\nnot a qb\nnot a qb\nnot a qb\nnot a qb\nnot a qb\nnot a qb\nnot a qb\nnot a qb\nnot a qb\nnot a qb\nnot a qb\nnot a qb\nnot a qb\nnot a qb\nnot a qb\nnot a qb\nnot a qb\nnot a qb\nnot a qb\nnot a qb\nnot a qb\nnot a qb\nnot a qb\nnot a qb\nnot a qb\nnot a qb\nnot a qb\nnot a qb\nnot a qb\nnot a qb\nnot a qb\nnot a qb\nnot a qb\nnot a qb\nnot a qb\nnot a qb\nnot a qb\nnot a qb\nnot a qb\nnot a qb\nnot a qb\nnot a qb\nnot a qb\nnot a qb\nnot a qb\nnot a qb\nnot a qb\nnot a qb\nnot a qb\nnot a qb\nnot a qb\nnot a qb\nnot a qb\nnot a qb\nnot a qb\nnot a qb\nnot a qb\nnot a qb\nnot a qb\nnot a qb\nnot a qb\nnot a qb\nnot a qb\nnot a qb\nnot a qb\nnot a qb\nnot a qb\nnot a qb\nnot a qb\nnot a qb\nnot a qb\nnot a qb\nnot a qb\nnot a qb\nnot a qb\nnot a qb\nnot a qb\nnot a qb\nnot a qb\nnot a qb\nnot a qb\nnot a qb\nnot a qb\nnot a qb\nnot a qb\nnot a qb\nnot a qb\nnot a qb\nnot a qb\nnot a qb\nnot a qb\nnot a qb\nnot a qb\nnot a qb\nnot a qb\nnot a qb\nnot a qb\nnot a qb\nnot a qb\nnot a qb\nnot a qb\nnot a qb\nnot a qb\nnot a qb\nnot a qb\nnot a qb\nnot a qb\nnot a qb\nnot a qb\nnot a qb\nnot a qb\nnot a qb\nnot a qb\nnot a qb\nnot a qb\nnot a qb\nnot a qb\nnot a qb\nnot a qb\nnot a qb\nnot a qb\nnot a qb\nnot a qb\nnot a qb\nnot a qb\nnot a qb\nnot a qb\nnot a qb\nnot a qb\nnot a qb\nnot a qb\nnot a qb\nnot a qb\nnot a qb\nnot a qb\nnot a qb\nnot a qb\nnot a qb\nnot a qb\nnot a qb\nnot a qb\nnot a qb\nnot a qb\nnot a qb\nnot a qb\nnot a qb\nnot a qb\nnot a qb\nnot a qb\nnot a qb\nnot a qb\nnot a qb\nnot a qb\nnot a qb\nnot a qb\nnot a qb\nnot a qb\nnot a qb\nnot a qb\nnot a qb\nnot a qb\nnot a qb\nnot a qb\nnot a qb\nnot a qb\nnot a qb\nnot a qb\nnot a qb\nnot a qb\nnot a qb\nnot a qb\nnot a qb\nnot a qb\nnot a qb\nnot a qb\nnot a qb\nnot a qb\nnot a qb\nnot a qb\nnot a qb\nnot a qb\nnot a qb\nnot a qb\nnot a qb\nnot a qb\nnot a qb\nnot a qb\nnot a qb\nnot a qb\nnot a qb\nnot a qb\nnot a qb\nnot a qb\nnot a qb\nnot a qb\nnot a qb\nnot a qb\nnot a qb\nnot a qb\nnot a qb\nnot a qb\nnot a qb\nnot a qb\nnot a qb\nnot a qb\nnot a qb\nnot a qb\nnot a qb\nnot a qb\nnot a qb\nnot a qb\nnot a qb\nnot a qb\nnot a qb\nnot a qb\nnot a qb\nnot a qb\nnot a qb\nnot a qb\nnot a qb\nnot a qb\nnot a qb\nnot a qb\nnot a qb\nnot a qb\nnot a qb\nnot a qb\nnot a qb\nnot a qb\nnot a qb\nnot a qb\nnot a qb\nnot a qb\nnot a qb\nnot a qb\nnot a qb\nnot a qb\nnot a qb\nnot a qb\nnot a qb\nnot a qb\nnot a qb\nnot a qb\nnot a qb\nnot a qb\nnot a qb\nnot a qb\nnot a qb\nnot a qb\nnot a qb\nnot a qb\nnot a qb\nnot a qb\nnot a qb\nnot a qb\nnot a qb\nnot a qb\nnot a qb\nnot a qb\nnot a qb\nnot a qb\nnot a qb\nnot a qb\nnot a qb\nnot a qb\nnot a qb\nnot a qb\nnot a qb\nnot a qb\nnot a qb\nnot a qb\nnot a qb\nnot a qb\nnot a qb\nnot a qb\nnot a qb\nnot a qb\nnot a qb\nnot a qb\nnot a qb\nnot a qb\nnot a qb\nnot a qb\nnot a qb\nnot a qb\nnot a qb\nnot a qb\nnot a qb\nnot a qb\nnot a qb\nnot a qb\nnot a qb\nnot a qb\nnot a qb\nnot a qb\nnot a qb\nnot a qb\nnot a qb\nnot a qb\nnot a qb\nnot a qb\nnot a qb\nnot a qb\nnot a qb\nnot a qb\nnot a qb\nnot a qb\nnot a qb\nnot a qb\nnot a qb\nnot a qb\nnot a qb\nnot a qb\nnot a qb\nnot a qb\nnot a qb\nnot a qb\nnot a qb\nnot a qb\nnot a qb\nnot a qb\nnot a qb\nnot a qb\nnot a qb\nnot a qb\nnot a qb\nnot a qb\nnot a qb\nnot a qb\nnot a qb\nnot a qb\nnot a qb\nnot a qb\nnot a qb\nnot a qb\nnot a qb\nnot a qb\nnot a qb\nnot a qb\nnot a qb\nnot a qb\nnot a qb\nnot a qb\nnot a qb\nnot a qb\nnot a qb\nnot a qb\nnot a qb\nnot a qb\nnot a qb\nnot a qb\nnot a qb\nnot a qb\nnot a qb\nnot a qb\nnot a qb\nnot a qb\nnot a qb\nnot a qb\nnot a qb\nnot a qb\nnot a qb\nnot a qb\nnot a qb\nnot a qb\nnot a qb\nnot a qb\nnot a qb\nnot a qb\nnot a qb\nnot a qb\nnot a qb\nnot a qb\nnot a qb\nnot a qb\nnot a qb\nnot a qb\nnot a qb\nnot a qb\nnot a qb\nnot a qb\nnot a qb\nnot a qb\nnot a qb\nnot a qb\nnot a qb\nnot a qb\nnot a qb\nnot a qb\nnot a qb\nnot a qb\nnot a qb\nnot a qb\nnot a qb\nnot a qb\nnot a qb\nnot a qb\nnot a qb\nnot a qb\nnot a qb\nnot a qb\nnot a qb\nnot a qb\nnot a qb\nnot a qb\nnot a qb\nnot a qb\nnot a qb\nnot a qb\nnot a qb\nnot a qb\nnot a qb\nnot a qb\nnot a qb\nnot a qb\nnot a qb\nnot a qb\nnot a qb\nnot a qb\nnot a qb\nnot a qb\nnot a qb\nnot a qb\nnot a qb\nnot a qb\nnot a qb\nnot a qb\nnot a qb\nnot a qb\nnot a qb\nnot a qb\nnot a qb\nnot a qb\nnot a qb\nnot a qb\nnot a qb\nnot a qb\nnot a qb\nnot a qb\nnot a qb\nnot a qb\nnot a qb\nnot a qb\nnot a qb\nnot a qb\nnot a qb\nnot a qb\nnot a qb\nnot a qb\nnot a qb\nnot a qb\nnot a qb\nnot a qb\nnot a qb\nnot a qb\nnot a qb\nnot a qb\nnot a qb\nnot a qb\nnot a qb\nnot a qb\nnot a qb\nnot a qb\nnot a qb\nnot a qb\nnot a qb\nnot a qb\nnot a qb\nnot a qb\nnot a qb\nnot a qb\nnot a qb\nnot a qb\nnot a qb\nnot a qb\nnot a qb\nnot a qb\nnot a qb\nnot a qb\nnot a qb\nnot a qb\nnot a qb\nnot a qb\nnot a qb\nnot a qb\nnot a qb\nnot a qb\nnot a qb\nnot a qb\nnot a qb\nnot a qb\nnot a qb\nnot a qb\nnot a qb\nnot a qb\nnot a qb\nnot a qb\nnot a qb\nnot a qb\nnot a qb\nnot a qb\nnot a qb\nnot a qb\nnot a qb\nnot a qb\nnot a qb\nnot a qb\nnot a qb\nnot a qb\nnot a qb\nnot a qb\nnot a qb\nnot a qb\nnot a qb\nnot a qb\nnot a qb\nnot a qb\nnot a qb\nnot a qb\nnot a qb\nnot a qb\nnot a qb\nnot a qb\nnot a qb\nnot a qb\nnot a qb\nnot a qb\nnot a qb\nnot a qb\nnot a qb\nnot a qb\nnot a qb\nnot a qb\nnot a qb\nnot a qb\nnot a qb\nnot a qb\nnot a qb\nnot a qb\nnot a qb\nnot a qb\nnot a qb\nnot a qb\nnot a qb\nnot a qb\nnot a qb\nnot a qb\nnot a qb\nnot a qb\nnot a qb\nnot a qb\nnot a qb\nnot a qb\nnot a qb\nnot a qb\nnot a qb\nnot a qb\nnot a qb\nnot a qb\nnot a qb\nnot a qb\nnot a qb\nnot a qb\nnot a qb\nnot a qb\nnot a qb\nnot a qb\nnot a qb\nnot a qb\nnot a qb\nnot a qb\nnot a qb\nnot a qb\nnot a qb\nnot a qb\nnot a qb\nnot a qb\nnot a qb\nnot a qb\nnot a qb\nnot a qb\nnot a qb\nnot a qb\nnot a qb\nnot a qb\nnot a qb\nnot a qb\nnot a qb\nnot a qb\nnot a qb\nnot a qb\nnot a qb\nnot a qb\nnot a qb\nnot a qb\nnot a qb\nnot a qb\nnot a qb\nnot a qb\nnot a qb\n"
     ]
    }
   ],
   "source": [
    "qb_df = data[\"position\"]  == \"QB\"\n",
    "itterator = 0\n",
    "for i in qb_df:\n",
    "    if qb_df[i][\"position\"] == True:\n",
    "        print(data[itterator])\n",
    "    else:\n",
    "        print(\"not a qb\")\n",
    "        continue"
   ]
  },
  {
   "cell_type": "code",
   "execution_count": null,
   "metadata": {},
   "outputs": [],
   "source": []
  }
 ]
}