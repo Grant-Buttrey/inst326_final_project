{
 "metadata": {
  "language_info": {
   "codemirror_mode": {
    "name": "ipython",
    "version": 3
   },
   "file_extension": ".py",
   "mimetype": "text/x-python",
   "name": "python",
   "nbconvert_exporter": "python",
   "pygments_lexer": "ipython3",
   "version": "3.7.4-final"
  },
  "orig_nbformat": 2,
  "kernelspec": {
   "name": "python3",
   "display_name": "Python 3"
  }
 },
 "nbformat": 4,
 "nbformat_minor": 2,
 "cells": [
  {
   "cell_type": "code",
   "execution_count": 29,
   "metadata": {},
   "outputs": [],
   "source": [
    "import pandas as pd\n",
    "import requests"
   ]
  },
  {
   "cell_type": "code",
   "execution_count": 33,
   "metadata": {},
   "outputs": [],
   "source": [
    "data = pd.read_json(\"https://www.fantasyfootballdatapros.com/api/players/2019/all\")\n"
   ]
  },
  {
   "cell_type": "code",
   "execution_count": 36,
   "metadata": {},
   "outputs": [
    {
     "output_type": "execute_result",
     "data": {
      "text/plain": [
       "     fumbles_lost  games_played          player_name position  \\\n",
       "0               0            16  Christian McCaffrey       RB   \n",
       "1               2            15        Lamar Jackson       QB   \n",
       "2               3            15        Derrick Henry       RB   \n",
       "3               2            16          Aaron Jones       RB   \n",
       "4               2            16      Ezekiel Elliott       RB   \n",
       "..            ...           ...                  ...      ...   \n",
       "615             1             6      Ray-Ray McCloud        0   \n",
       "616             1             6     Darrius Shepherd       WR   \n",
       "617             0             3      Jarrett Stidham       QB   \n",
       "618             2             7       Michael Walker       WR   \n",
       "619             2             4        Corey Clement        0   \n",
       "\n",
       "                                                 stats team  \n",
       "0    {'passing': {'int': 0.0, 'passing_att': 2.0, '...  CAR  \n",
       "1    {'passing': {'int': 6.0, 'passing_att': 401.0,...  BAL  \n",
       "2    {'passing': {'int': 0.0, 'passing_att': 0.0, '...  TEN  \n",
       "3    {'passing': {'int': 0.0, 'passing_att': 0.0, '...  GNB  \n",
       "4    {'passing': {'int': 0.0, 'passing_att': 0.0, '...  DAL  \n",
       "..                                                 ...  ...  \n",
       "615  {'passing': {'int': 0.0, 'passing_att': 0.0, '...  CAR  \n",
       "616  {'passing': {'int': 0.0, 'passing_att': 0.0, '...  GNB  \n",
       "617  {'passing': {'int': 1.0, 'passing_att': 4.0, '...  NWE  \n",
       "618  {'passing': {'int': 0.0, 'passing_att': 0.0, '...  JAX  \n",
       "619  {'passing': {'int': 0.0, 'passing_att': 0.0, '...  PHI  \n",
       "\n",
       "[620 rows x 6 columns]"
      ],
      "text/html": "<div>\n<style scoped>\n    .dataframe tbody tr th:only-of-type {\n        vertical-align: middle;\n    }\n\n    .dataframe tbody tr th {\n        vertical-align: top;\n    }\n\n    .dataframe thead th {\n        text-align: right;\n    }\n</style>\n<table border=\"1\" class=\"dataframe\">\n  <thead>\n    <tr style=\"text-align: right;\">\n      <th></th>\n      <th>fumbles_lost</th>\n      <th>games_played</th>\n      <th>player_name</th>\n      <th>position</th>\n      <th>stats</th>\n      <th>team</th>\n    </tr>\n  </thead>\n  <tbody>\n    <tr>\n      <td>0</td>\n      <td>0</td>\n      <td>16</td>\n      <td>Christian McCaffrey</td>\n      <td>RB</td>\n      <td>{'passing': {'int': 0.0, 'passing_att': 2.0, '...</td>\n      <td>CAR</td>\n    </tr>\n    <tr>\n      <td>1</td>\n      <td>2</td>\n      <td>15</td>\n      <td>Lamar Jackson</td>\n      <td>QB</td>\n      <td>{'passing': {'int': 6.0, 'passing_att': 401.0,...</td>\n      <td>BAL</td>\n    </tr>\n    <tr>\n      <td>2</td>\n      <td>3</td>\n      <td>15</td>\n      <td>Derrick Henry</td>\n      <td>RB</td>\n      <td>{'passing': {'int': 0.0, 'passing_att': 0.0, '...</td>\n      <td>TEN</td>\n    </tr>\n    <tr>\n      <td>3</td>\n      <td>2</td>\n      <td>16</td>\n      <td>Aaron Jones</td>\n      <td>RB</td>\n      <td>{'passing': {'int': 0.0, 'passing_att': 0.0, '...</td>\n      <td>GNB</td>\n    </tr>\n    <tr>\n      <td>4</td>\n      <td>2</td>\n      <td>16</td>\n      <td>Ezekiel Elliott</td>\n      <td>RB</td>\n      <td>{'passing': {'int': 0.0, 'passing_att': 0.0, '...</td>\n      <td>DAL</td>\n    </tr>\n    <tr>\n      <td>...</td>\n      <td>...</td>\n      <td>...</td>\n      <td>...</td>\n      <td>...</td>\n      <td>...</td>\n      <td>...</td>\n    </tr>\n    <tr>\n      <td>615</td>\n      <td>1</td>\n      <td>6</td>\n      <td>Ray-Ray McCloud</td>\n      <td>0</td>\n      <td>{'passing': {'int': 0.0, 'passing_att': 0.0, '...</td>\n      <td>CAR</td>\n    </tr>\n    <tr>\n      <td>616</td>\n      <td>1</td>\n      <td>6</td>\n      <td>Darrius Shepherd</td>\n      <td>WR</td>\n      <td>{'passing': {'int': 0.0, 'passing_att': 0.0, '...</td>\n      <td>GNB</td>\n    </tr>\n    <tr>\n      <td>617</td>\n      <td>0</td>\n      <td>3</td>\n      <td>Jarrett Stidham</td>\n      <td>QB</td>\n      <td>{'passing': {'int': 1.0, 'passing_att': 4.0, '...</td>\n      <td>NWE</td>\n    </tr>\n    <tr>\n      <td>618</td>\n      <td>2</td>\n      <td>7</td>\n      <td>Michael Walker</td>\n      <td>WR</td>\n      <td>{'passing': {'int': 0.0, 'passing_att': 0.0, '...</td>\n      <td>JAX</td>\n    </tr>\n    <tr>\n      <td>619</td>\n      <td>2</td>\n      <td>4</td>\n      <td>Corey Clement</td>\n      <td>0</td>\n      <td>{'passing': {'int': 0.0, 'passing_att': 0.0, '...</td>\n      <td>PHI</td>\n    </tr>\n  </tbody>\n</table>\n<p>620 rows × 6 columns</p>\n</div>"
     },
     "metadata": {},
     "execution_count": 36
    }
   ],
   "source": [
    "data = pd.DataFrame(data)\n",
    "data"
   ]
  },
  {
   "cell_type": "code",
   "execution_count": 99,
   "metadata": {
    "tags": []
   },
   "outputs": [],
   "source": [
    "#for i in data[\"player_name\"]:\n",
    "    #self.player_name = i\n"
   ]
  },
  {
   "cell_type": "code",
   "execution_count": null,
   "metadata": {},
   "outputs": [],
   "source": [
    "league_players = []\n",
    "\n",
    "league_players.append()"
   ]
  }
 ]
}